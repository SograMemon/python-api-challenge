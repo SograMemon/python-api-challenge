{
 "cells": [
  {
   "cell_type": "markdown",
   "metadata": {},
   "source": [
    "# WeatherPy\n",
    "----\n",
    "\n",
    "#### Note\n",
    "* Instructions have been included for each segment. You do not have to follow them exactly, but they are included to help you think through the steps."
   ]
  },
  {
   "cell_type": "code",
   "execution_count": 1,
   "metadata": {
    "collapsed": true,
    "scrolled": true
   },
   "outputs": [],
   "source": [
    "# Dependencies and Setup\n",
    "import matplotlib.pyplot as plt\n",
    "import pandas as pd\n",
    "import numpy as np\n",
    "import requests\n",
    "import time\n",
    "from scipy.stats import linregress\n",
    "import json\n",
    "import time\n",
    "\n",
    "# Import API key\n",
    "from api_keys import weather_api_key\n",
    "\n",
    "# Incorporated citipy to determine city based on latitude and longitude\n",
    "from citipy import citipy\n",
    "\n",
    "# Output File (CSV)\n",
    "output_data_file = \"../output_data/cities.csv\"\n",
    "\n",
    "# Range of latitudes and longitudes\n",
    "lat_range = (-90, 90)\n",
    "lng_range = (-180, 180)"
   ]
  },
  {
   "cell_type": "markdown",
   "metadata": {},
   "source": [
    "## Generate Cities List"
   ]
  },
  {
   "cell_type": "code",
   "execution_count": 2,
   "metadata": {},
   "outputs": [
    {
     "data": {
      "text/plain": [
       "607"
      ]
     },
     "execution_count": 2,
     "metadata": {},
     "output_type": "execute_result"
    }
   ],
   "source": [
    "# List for holding lat_lngs and cities\n",
    "lat_lngs = []\n",
    "cities = []\n",
    "\n",
    "# Create a set of random lat and lng combinations\n",
    "lats = np.random.uniform(lat_range[0], lat_range[1], size=1500)\n",
    "lngs = np.random.uniform(lng_range[0], lng_range[1], size=1500)\n",
    "lat_lngs = zip(lats, lngs)\n",
    "\n",
    "# Identify nearest city for each lat, lng combination\n",
    "for lat_lng in lat_lngs:\n",
    "    city = citipy.nearest_city(lat_lng[0], lat_lng[1]).city_name\n",
    "    \n",
    "    # If the city is unique, then add it to a our cities list\n",
    "    if city not in cities:\n",
    "        cities.append(city)\n",
    "\n",
    "# Print the city count to confirm sufficient count\n",
    "len(cities)"
   ]
  },
  {
   "cell_type": "markdown",
   "metadata": {},
   "source": [
    "### Perform API Calls\n",
    "* Perform a weather check on each city using a series of successive API calls.\n",
    "* Include a print log of each city as it's being processed (with the city number and city name).\n"
   ]
  },
  {
   "cell_type": "code",
   "execution_count": 3,
   "metadata": {
    "scrolled": true
   },
   "outputs": [
    {
     "name": "stdout",
     "output_type": "stream",
     "text": [
      "Beginning Data Retrieval\n",
      "-----------------------------\n",
      "Processing City deqing\n",
      "Processing City jamestown\n",
      "Processing City mayo\n",
      "Processing City staraya russa\n",
      "Processing City kikwit\n",
      "Processing City coquimbo\n",
      "City not found skipping\n",
      "City not found skipping\n",
      "Processing City bereda\n",
      "Processing City chuy\n",
      "Processing City vardo\n",
      "Processing City arraial do cabo\n",
      "Processing City songea\n",
      "Processing City gazanjyk\n",
      "Processing City cleethorpes\n",
      "Processing City riviere-au-renard\n",
      "Processing City chingirlau\n",
      "Processing City portland\n",
      "Processing City albany\n",
      "Processing City rio grande\n",
      "Processing City santo antonio do ica\n",
      "Processing City avarua\n",
      "Processing City rikitea\n",
      "Processing City mut\n",
      "Processing City hermanus\n",
      "Processing City hambantota\n",
      "Processing City ushuaia\n",
      "Processing City saint-philippe\n",
      "Processing City mahebourg\n",
      "Processing City charters towers\n",
      "Processing City morondava\n",
      "City not found skipping\n",
      "Processing City port alfred\n",
      "Processing City hobart\n",
      "Processing City cabatuan\n",
      "Processing City rtishchevo\n",
      "City not found skipping\n",
      "Processing City punta arenas\n",
      "Processing City tadine\n",
      "Processing City yellowknife\n",
      "Processing City airai\n",
      "Processing City takaka\n",
      "Processing City kano\n",
      "Processing City dikson\n",
      "Processing City bonavista\n",
      "City not found skipping\n",
      "Processing City ypsonas\n",
      "Processing City puerto ayora\n",
      "Processing City broome\n",
      "Processing City leningradskiy\n",
      "Processing City kieta\n",
      "Processing City banda aceh\n",
      "Processing City butaritari\n",
      "Processing City bodden town\n",
      "Processing City amazar\n",
      "Processing City jalu\n",
      "Processing City maubin\n",
      "City not found skipping\n",
      "Processing City camacha\n",
      "Processing City ribeira grande\n",
      "Processing City ahipara\n",
      "Processing City cape town\n",
      "Processing City penugonda\n",
      "Processing City castro\n",
      "Processing City komsomolskiy\n",
      "Processing City bluff\n",
      "Processing City veraval\n",
      "Processing City hasaki\n",
      "Processing City qaanaaq\n",
      "Processing City norman wells\n",
      "Processing City matay\n",
      "Processing City kapaa\n",
      "City not found skipping\n",
      "Processing City koprivstica\n",
      "Processing City peddapuram\n",
      "Processing City imbituva\n",
      "Processing City umm lajj\n",
      "Processing City placido de castro\n",
      "Processing City lompoc\n",
      "Processing City tarko-sale\n",
      "Processing City longyearbyen\n",
      "City not found skipping\n",
      "Processing City doha\n",
      "Processing City missungwi\n",
      "City not found skipping\n",
      "Processing City hithadhoo\n",
      "Processing City padang\n",
      "Processing City bredasdorp\n",
      "Processing City sambava\n",
      "City not found skipping\n",
      "Processing City nikolskoye\n",
      "Processing City todos santos\n",
      "Processing City sydney\n",
      "Processing City souillac\n",
      "Processing City asau\n",
      "Processing City bethel\n",
      "Processing City mataura\n",
      "Processing City dunedin\n",
      "Processing City waipawa\n",
      "Processing City breytovo\n",
      "Processing City kodiak\n",
      "Processing City palmer\n",
      "Processing City zapolyarnyy\n",
      "Processing City constantine\n",
      "Processing City colares\n",
      "Processing City margate\n",
      "Processing City uruzgan\n",
      "Processing City pathein\n",
      "Processing City pella\n",
      "Processing City gushikawa\n",
      "Processing City klaksvik\n",
      "City not found skipping\n",
      "Processing City hilo\n",
      "Processing City halifax\n",
      "Processing City saskylakh\n",
      "Processing City kaitangata\n",
      "Processing City yinchuan\n",
      "Processing City coahuayana\n",
      "Processing City evansville\n",
      "Processing City dingle\n",
      "Processing City mar del plata\n",
      "Processing City farrukhnagar\n",
      "Processing City busselton\n",
      "Processing City san-pedro\n",
      "Processing City pirapozinho\n",
      "Processing City uray\n",
      "Processing City atuona\n",
      "Processing City krasnoborsk\n",
      "Processing City havoysund\n",
      "Processing City fortuna\n",
      "Processing City hue\n",
      "Processing City ponta do sol\n",
      "Processing City manado\n",
      "Processing City umm kaddadah\n",
      "Processing City gamba\n",
      "Processing City araouane\n",
      "Processing City tasiilaq\n",
      "Processing City san cristobal\n",
      "Processing City labuan\n",
      "Processing City kutum\n",
      "Processing City jumla\n",
      "Processing City barrow\n",
      "Processing City hereford\n",
      "Processing City snezhnogorsk\n",
      "Processing City cidreira\n",
      "City not found skipping\n",
      "Processing City ukiah\n",
      "Processing City tattayyangarpettai\n",
      "Processing City sakakah\n",
      "Processing City clyde river\n",
      "Processing City cabedelo\n",
      "Processing City yazman\n",
      "Processing City baykit\n",
      "Processing City mae sai\n",
      "Processing City caronport\n",
      "Processing City upernavik\n",
      "Processing City ulaangom\n",
      "Processing City dongsheng\n",
      "Processing City torbay\n",
      "Processing City laredo\n",
      "Processing City chyhyryn\n",
      "Processing City dzerzhinsk\n",
      "Processing City clarence town\n",
      "Processing City jiuquan\n",
      "Processing City high rock\n",
      "Processing City naze\n",
      "Processing City loiza\n",
      "Processing City mahanje\n",
      "Processing City touros\n",
      "Processing City vila velha\n",
      "Processing City yaan\n",
      "Processing City mabaruma\n",
      "Processing City montbrison\n",
      "Processing City waitati\n",
      "Processing City severo-kurilsk\n",
      "Processing City dalvik\n",
      "Processing City korla\n",
      "Processing City saint-denis\n",
      "City not found skipping\n",
      "Processing City baker city\n",
      "Processing City saint george\n",
      "Processing City bandarbeyla\n",
      "Processing City khani\n",
      "Processing City kavaratti\n",
      "Processing City honiara\n",
      "City not found skipping\n",
      "Processing City adrar\n",
      "Processing City soe\n",
      "Processing City vaini\n",
      "Processing City syracuse\n",
      "Processing City lebu\n",
      "Processing City avera\n",
      "Processing City voyvozh\n",
      "Processing City saldanha\n",
      "Processing City sheridan\n",
      "Processing City bambous virieux\n",
      "Processing City raudeberg\n",
      "Processing City carlagan\n",
      "Processing City chokurdakh\n",
      "Processing City codrington\n",
      "Processing City port lincoln\n",
      "Processing City ishigaki\n",
      "Processing City kavieng\n",
      "Processing City thompson\n",
      "Processing City georgetown\n",
      "City not found skipping\n",
      "Processing City toowoomba\n",
      "Processing City tuktoyaktuk\n",
      "Processing City awjilah\n",
      "Processing City pimenta bueno\n",
      "Processing City pisco\n",
      "City not found skipping\n",
      "City not found skipping\n",
      "Processing City ancud\n",
      "Processing City alyangula\n",
      "Processing City omsukchan\n",
      "Processing City samarai\n",
      "Processing City port hedland\n",
      "Processing City carnarvon\n",
      "Processing City manta\n",
      "Processing City sereflikochisar\n",
      "Processing City kalat\n",
      "Processing City san quintin\n",
      "Processing City tuatapere\n",
      "Processing City vila franca do campo\n",
      "Processing City namibe\n",
      "Processing City dzilam gonzalez\n",
      "Processing City fairbanks\n",
      "Processing City bagamoyo\n",
      "Processing City alofi\n",
      "Processing City orzu\n",
      "Processing City saint-joseph\n",
      "Processing City lorengau\n",
      "Processing City almaznyy\n",
      "Processing City orekhovo-zuevo\n",
      "Processing City east london\n",
      "Processing City bagdarin\n",
      "Processing City effingham\n",
      "Processing City dehloran\n",
      "Processing City cabo san lucas\n",
      "City not found skipping\n",
      "Processing City batemans bay\n",
      "Processing City turayf\n",
      "Processing City northam\n",
      "Processing City diego de almagro\n",
      "Processing City tiksi\n",
      "Processing City malibu\n",
      "Processing City woodburn\n",
      "Processing City grand gaube\n",
      "Processing City novikovo\n",
      "Processing City huaral\n",
      "Processing City austin\n",
      "Processing City flin flon\n",
      "Processing City kruisfontein\n",
      "Processing City seka\n",
      "City not found skipping\n",
      "Processing City nkan\n",
      "Processing City khash\n",
      "City not found skipping\n",
      "Processing City arlit\n",
      "Processing City andenes\n",
      "Processing City kamenka\n",
      "Processing City acheng\n",
      "Processing City flinders\n",
      "Processing City port moresby\n",
      "Processing City namatanai\n",
      "Processing City sistranda\n",
      "City not found skipping\n",
      "Processing City buraydah\n",
      "Processing City lavrentiya\n",
      "Processing City sao joao da barra\n",
      "Processing City nemuro\n",
      "Processing City bojnurd\n",
      "Processing City charlestown\n",
      "Processing City hay river\n",
      "Processing City katherine\n",
      "Processing City severnoye\n",
      "Processing City kamennogorsk\n",
      "Processing City nadym\n",
      "Processing City sisimiut\n",
      "Processing City senneterre\n",
      "Processing City tynda\n",
      "Processing City dharchula\n",
      "Processing City peniche\n",
      "Processing City buchanan\n",
      "Processing City coihaique\n",
      "Processing City katsuura\n",
      "Processing City pevek\n",
      "Processing City nyaunglebin\n",
      "Processing City berdigestyakh\n",
      "City not found skipping\n",
      "Processing City strezhevoy\n",
      "City not found skipping\n",
      "Processing City talnakh\n",
      "Processing City merauke\n",
      "Processing City ostrovnoy\n",
      "Processing City safaga\n",
      "Processing City richards bay\n",
      "Processing City villarrica\n",
      "Processing City ryotsu\n",
      "Processing City new norfolk\n",
      "Processing City vao\n",
      "Processing City cap malheureux\n",
      "Processing City kaeo\n",
      "Processing City borkenes\n",
      "Processing City isangel\n",
      "Processing City amqui\n",
      "Processing City paamiut\n",
      "Processing City chissamba\n",
      "Processing City ayagoz\n",
      "Processing City ilulissat\n",
      "Processing City balaipungut\n",
      "Processing City totolapan\n",
      "Processing City mokhsogollokh\n",
      "Processing City bontang\n",
      "Processing City luganville\n",
      "Processing City la ronge\n",
      "Processing City bubaque\n",
      "Processing City antofagasta\n",
      "Processing City pimentel\n",
      "Processing City college\n",
      "Processing City pacifica\n",
      "Processing City sayyan\n"
     ]
    },
    {
     "name": "stdout",
     "output_type": "stream",
     "text": [
      "Processing City kim\n",
      "Processing City sorata\n",
      "Processing City banjar\n",
      "Processing City presidencia roque saenz pena\n",
      "Processing City calamar\n",
      "Processing City te anau\n",
      "Processing City spirovo\n",
      "Processing City neiafu\n",
      "Processing City rayong\n",
      "Processing City ranfurly\n",
      "Processing City verkhoyansk\n",
      "Processing City bardiyah\n",
      "Processing City provideniya\n",
      "Processing City pangnirtung\n",
      "Processing City mizdah\n",
      "Processing City aykhal\n",
      "Processing City faya\n",
      "Processing City shimoda\n",
      "Processing City the valley\n",
      "Processing City tommot\n",
      "Processing City port elizabeth\n",
      "Processing City carutapera\n",
      "City not found skipping\n",
      "Processing City guerrero negro\n",
      "Processing City sokoto\n",
      "Processing City havre-saint-pierre\n",
      "Processing City aksha\n",
      "Processing City high level\n",
      "Processing City vestmannaeyjar\n",
      "Processing City husavik\n",
      "Processing City corowa\n",
      "Processing City bengkulu\n",
      "Processing City sao filipe\n",
      "Processing City leh\n",
      "Processing City oriximina\n",
      "Processing City punta gorda\n",
      "Processing City sao jose da coroa grande\n",
      "Processing City nago\n",
      "Processing City bairiki\n",
      "Processing City san carlos de bariloche\n",
      "Processing City beloha\n",
      "Processing City sept-iles\n",
      "Processing City sorland\n",
      "Processing City ondjiva\n",
      "Processing City senador jose porfirio\n",
      "Processing City svetlogorsk\n",
      "Processing City corbu\n",
      "Processing City axim\n",
      "Processing City terrak\n",
      "Processing City arnissa\n",
      "Processing City acari\n",
      "Processing City koslan\n",
      "Processing City pacific grove\n",
      "Processing City iralaya\n",
      "Processing City san policarpo\n",
      "Processing City khatanga\n",
      "Processing City tayoltita\n",
      "Processing City henties bay\n",
      "Processing City katangli\n",
      "Processing City wanxian\n",
      "Processing City hofn\n",
      "Processing City palauig\n",
      "Processing City kiama\n",
      "Processing City ilava\n",
      "Processing City zyryanka\n",
      "Processing City colesberg\n",
      "Processing City natitingou\n",
      "Processing City sangin\n",
      "Processing City mega\n",
      "Processing City pilar\n",
      "Processing City salalah\n",
      "City not found skipping\n",
      "Processing City tiquisio\n",
      "Processing City praia da vitoria\n",
      "City not found skipping\n",
      "Processing City comodoro rivadavia\n",
      "Processing City bam\n",
      "Processing City nome\n",
      "Processing City geraldton\n",
      "City not found skipping\n",
      "City not found skipping\n",
      "City not found skipping\n",
      "Processing City yenagoa\n",
      "Processing City constitucion\n",
      "Processing City aswan\n",
      "Processing City lodja\n",
      "Processing City walvis bay\n",
      "City not found skipping\n",
      "Processing City maragogi\n",
      "Processing City riyadh\n",
      "Processing City aklavik\n",
      "Processing City gat\n",
      "Processing City general pico\n",
      "Processing City abha\n",
      "Processing City bathsheba\n",
      "Processing City moron\n",
      "City not found skipping\n",
      "Processing City devils lake\n",
      "Processing City tianpeng\n",
      "Processing City rio gallegos\n",
      "Processing City cagliliog\n",
      "Processing City jasper\n",
      "Processing City cottbus\n",
      "Processing City limbe\n",
      "Processing City totness\n",
      "Processing City missao velha\n",
      "Processing City mehamn\n",
      "Processing City pergamino\n",
      "Processing City bhanpuri\n",
      "Processing City faanui\n",
      "Processing City sao francisco\n",
      "Processing City mosetse\n",
      "Processing City chapais\n",
      "Processing City awbari\n",
      "Processing City byron bay\n",
      "Processing City iqaluit\n",
      "Processing City ixtapa\n",
      "Processing City mindelo\n",
      "Processing City port macquarie\n",
      "Processing City narsaq\n",
      "Processing City kaniama\n",
      "Processing City fort-shevchenko\n",
      "Processing City pampierstad\n",
      "Processing City silver city\n",
      "Processing City malindi\n",
      "Processing City hauterive\n",
      "Processing City ust-nera\n",
      "Processing City vanimo\n",
      "Processing City samarinda\n",
      "Processing City boqueirao\n",
      "Processing City victoria\n",
      "Processing City waraseoni\n",
      "Processing City ubinskoye\n",
      "Processing City bambanglipuro\n",
      "Processing City foix\n",
      "Processing City itarema\n",
      "Processing City mishan\n",
      "Processing City bartica\n",
      "Processing City mahenge\n",
      "Processing City sandakan\n",
      "Processing City sonoita\n",
      "Processing City dabakala\n",
      "Processing City san patricio\n",
      "Processing City turkmenabat\n",
      "Processing City ulladulla\n",
      "Processing City tome\n",
      "Processing City yuksekova\n",
      "Processing City berlevag\n",
      "Processing City umba\n",
      "Processing City severo-yeniseyskiy\n",
      "Processing City slupsk\n",
      "Processing City san rafael\n",
      "Processing City veinte de noviembre\n",
      "Processing City saint-georges\n",
      "Processing City viedma\n",
      "Processing City avezzano\n",
      "Processing City comacchio\n",
      "Processing City dubrovka\n",
      "Processing City darhan\n",
      "Processing City thayetmyo\n",
      "Processing City luderitz\n",
      "Processing City wukari\n",
      "Processing City port augusta\n",
      "Processing City port shepstone\n",
      "Processing City worland\n",
      "Processing City meulaboh\n",
      "Processing City nanpiao\n",
      "Processing City grindavik\n",
      "Processing City uvat\n",
      "City not found skipping\n",
      "Processing City mocuba\n",
      "Processing City cap-chat\n",
      "Processing City kedrovyy\n",
      "Processing City oistins\n",
      "Processing City hobyo\n",
      "Processing City goundi\n",
      "Processing City kargasok\n",
      "Processing City manaure\n",
      "Processing City cherskiy\n",
      "Processing City alice springs\n",
      "City not found skipping\n",
      "Processing City noumea\n",
      "Processing City hamilton\n",
      "Processing City wanlaweyn\n",
      "Processing City ust-maya\n",
      "Processing City santa cruz\n",
      "Processing City opuwo\n",
      "Processing City tigil\n",
      "Processing City cognac\n",
      "Processing City leshukonskoye\n",
      "Processing City kudahuvadhoo\n",
      "Processing City pafos\n",
      "Processing City sobolevo\n",
      "Processing City anadyr\n",
      "Processing City bay roberts\n",
      "Processing City ayorou\n",
      "Processing City beringovskiy\n",
      "City not found skipping\n",
      "Processing City teya\n",
      "Processing City puerto del rosario\n",
      "Processing City dondo\n",
      "Processing City scarborough\n",
      "Processing City marawi\n",
      "Processing City locri\n",
      "Processing City kozhva\n",
      "Processing City kohima\n",
      "Processing City sokode\n",
      "Processing City kilakarai\n",
      "Processing City sur\n",
      "Processing City kandrian\n",
      "Processing City nanortalik\n",
      "Processing City khandyga\n",
      "Processing City sechura\n",
      "Processing City lazaro cardenas\n",
      "City not found skipping\n",
      "Processing City caravelas\n",
      "Processing City mayor pablo lagerenza\n",
      "Processing City dapaong\n",
      "Processing City marzuq\n",
      "Processing City oussouye\n",
      "Processing City killybegs\n",
      "Processing City dalnerechensk\n",
      "City not found skipping\n",
      "Processing City chateaubelair\n",
      "Processing City dwarka\n",
      "Processing City palasa\n",
      "Processing City kirakira\n",
      "Processing City evinayong\n",
      "Processing City leshan\n",
      "City not found skipping\n",
      "City not found skipping\n",
      "Processing City lethbridge\n",
      "Processing City dali\n",
      "Processing City kiunga\n",
      "Processing City verkhnevilyuysk\n",
      "Processing City amapa\n",
      "Processing City juegang\n",
      "City not found skipping\n",
      "Processing City nyurba\n",
      "Processing City tripoli\n",
      "Processing City batagay-alyta\n",
      "Processing City xining\n",
      "Processing City taicheng\n",
      "City not found skipping\n",
      "Processing City puebloviejo\n",
      "Processing City denpasar\n",
      "Processing City la romana\n",
      "Processing City lipari\n",
      "Processing City tucumcari\n",
      "City not found skipping\n",
      "Processing City velyka oleksandrivka\n",
      "Processing City nantucket\n",
      "Processing City baruun-urt\n",
      "Processing City rassvet\n",
      "Processing City aloleng\n",
      "Processing City rajgarh\n",
      "Processing City puerto escondido\n",
      "Processing City longyan\n",
      "Processing City leca da palmeira\n",
      "Processing City conde\n",
      "Processing City muroto\n",
      "Processing City mlonggo\n",
      "Processing City mnogovershinnyy\n",
      "Processing City karymskoye\n",
      "Processing City baloda bazar\n",
      "Processing City genhe\n",
      "Processing City takoradi\n",
      "Processing City biak\n",
      "Processing City rong kwang\n",
      "Processing City atambua\n",
      "Processing City bela\n",
      "Processing City jackson\n",
      "Processing City kuli\n",
      "Processing City oksfjord\n",
      "Processing City yuanping\n",
      "Processing City batagay\n",
      "Processing City cayenne\n",
      "Processing City reconquista\n",
      "Processing City pombas\n",
      "Processing City kaiyuan\n",
      "Processing City zhezkazgan\n",
      "Processing City santa maria del oro\n",
      "Processing City ende\n",
      "Processing City mao\n"
     ]
    }
   ],
   "source": [
    "print(\"Beginning Data Retrieval\")\n",
    "print(\"-----------------------------\")\n",
    "for city in cities:\n",
    "    url=f\"http://api.openweathermap.org/data/2.5/weather?q={city}&appid={weather_api_key}\"\n",
    "    response= requests.get(url)\n",
    "    if(str(response)==\"<Response [200]>\"):\n",
    "        print(f\"Processing City {city}\")\n",
    "    else:\n",
    "        print(\"City not found skipping\")"
   ]
  },
  {
   "cell_type": "markdown",
   "metadata": {},
   "source": [
    "### Convert Raw Data to DataFrame\n",
    "* Export the city data into a .csv.\n",
    "* Display the DataFrame"
   ]
  },
  {
   "cell_type": "code",
   "execution_count": 4,
   "metadata": {},
   "outputs": [
    {
     "name": "stdout",
     "output_type": "stream",
     "text": [
      "{\n",
      "    \"base\": \"stations\",\n",
      "    \"clouds\": {\n",
      "        \"all\": 90\n",
      "    },\n",
      "    \"cod\": 200,\n",
      "    \"coord\": {\n",
      "        \"lat\": 40.6,\n",
      "        \"lon\": -124.16\n",
      "    },\n",
      "    \"dt\": 1592970051,\n",
      "    \"id\": 5563839,\n",
      "    \"main\": {\n",
      "        \"feels_like\": 286.63,\n",
      "        \"humidity\": 93,\n",
      "        \"pressure\": 1015,\n",
      "        \"temp\": 287.98,\n",
      "        \"temp_max\": 288.71,\n",
      "        \"temp_min\": 287.15\n",
      "    },\n",
      "    \"name\": \"Fortuna\",\n",
      "    \"sys\": {\n",
      "        \"country\": \"US\",\n",
      "        \"id\": 4127,\n",
      "        \"sunrise\": 1592916398,\n",
      "        \"sunset\": 1592970675,\n",
      "        \"type\": 1\n",
      "    },\n",
      "    \"timezone\": -25200,\n",
      "    \"visibility\": 8047,\n",
      "    \"weather\": [\n",
      "        {\n",
      "            \"description\": \"overcast clouds\",\n",
      "            \"icon\": \"04d\",\n",
      "            \"id\": 804,\n",
      "            \"main\": \"Clouds\"\n",
      "        }\n",
      "    ],\n",
      "    \"wind\": {\n",
      "        \"deg\": 290,\n",
      "        \"speed\": 3.6\n",
      "    }\n",
      "}\n"
     ]
    }
   ],
   "source": [
    "#Print one city information\n",
    "url=f\"http://api.openweathermap.org/data/2.5/weather?q=fortuna&appid={weather_api_key}\"\n",
    "response= requests.get(url).json()\n",
    "print(json.dumps(response, indent=4, sort_keys=True))"
   ]
  },
  {
   "cell_type": "code",
   "execution_count": 5,
   "metadata": {},
   "outputs": [
    {
     "data": {
      "text/plain": [
       "{'cod': 401,\n",
       " 'message': 'Invalid API key. Please see http://openweathermap.org/faq#error401 for more info.'}"
      ]
     },
     "execution_count": 5,
     "metadata": {},
     "output_type": "execute_result"
    }
   ],
   "source": [
    "\n",
    "query_url = url + \"appid=\" + weather_api_key + \"&q=\" + city\n",
    "weather_response = requests.get(query_url)\n",
    "weather_json = weather_response.json()\n",
    "weather_json\n"
   ]
  },
  {
   "cell_type": "code",
   "execution_count": 6,
   "metadata": {},
   "outputs": [
    {
     "data": {
      "text/plain": [
       "{'City': 'fortuna',\n",
       " 'Cloudiness': 90,\n",
       " 'Country': 'US',\n",
       " 'Date': 1592970051,\n",
       " 'Humidity': 93,\n",
       " 'Lat': 40.6,\n",
       " 'Lng': -124.16,\n",
       " 'Max Temp': 288.71,\n",
       " 'Wind Speed': 3.6}"
      ]
     },
     "execution_count": 6,
     "metadata": {},
     "output_type": "execute_result"
    }
   ],
   "source": [
    "#Cretate a dictionary of one city\n",
    "weather_dict= {\"City\":\"fortuna\", \"Lat\":response[\"coord\"][\"lat\"],\"Lng\":response[\"coord\"][\"lon\"], \n",
    "               \"Max Temp\":response[\"main\"][\"temp_max\"], \"Humidity\": response[\"main\"][\"humidity\"],\n",
    "               \"Cloudiness\":response[\"clouds\"][\"all\"], \"Wind Speed\": response[\"wind\"][\"speed\"],\n",
    "               \"Country\":response[\"sys\"][\"country\"], \"Date\":response[\"dt\"]}\n",
    "weather_dict"
   ]
  },
  {
   "cell_type": "code",
   "execution_count": 7,
   "metadata": {
    "scrolled": true
   },
   "outputs": [],
   "source": [
    "#make empty list to contain the dictioaries of multiple cities\n",
    "list_cityWeather= []\n",
    "# Create a for loop to add each city information to the list \n",
    "for city in cities:\n",
    "    url=f\"http://api.openweathermap.org/data/2.5/weather?q={city}&appid={weather_api_key}\"\n",
    "    response= requests.get(url)\n",
    "    if(str(response)==\"<Response [200]>\"):\n",
    "        response=response.json()\n",
    "        weather_dict= {\"City\":city, \"Lat\":response[\"coord\"][\"lat\"],\"Lng\":response[\"coord\"][\"lon\"], \n",
    "               \"Max Temp\":response[\"main\"][\"temp_max\"], \"Humidity\": response[\"main\"][\"humidity\"],\n",
    "               \"Cloudiness\":response[\"clouds\"][\"all\"], \"Wind Speed\": response[\"wind\"][\"speed\"],\n",
    "               \"Country\":response[\"sys\"][\"country\"], \"Date\":response[\"dt\"]}\n",
    "        list_cityWeather.append(weather_dict)\n",
    "#list_cityWeather"
   ]
  },
  {
   "cell_type": "code",
   "execution_count": null,
   "metadata": {},
   "outputs": [],
   "source": []
  },
  {
   "cell_type": "code",
   "execution_count": 8,
   "metadata": {},
   "outputs": [
    {
     "data": {
      "text/html": [
       "<div>\n",
       "<style scoped>\n",
       "    .dataframe tbody tr th:only-of-type {\n",
       "        vertical-align: middle;\n",
       "    }\n",
       "\n",
       "    .dataframe tbody tr th {\n",
       "        vertical-align: top;\n",
       "    }\n",
       "\n",
       "    .dataframe thead th {\n",
       "        text-align: right;\n",
       "    }\n",
       "</style>\n",
       "<table border=\"1\" class=\"dataframe\">\n",
       "  <thead>\n",
       "    <tr style=\"text-align: right;\">\n",
       "      <th></th>\n",
       "      <th>City</th>\n",
       "      <th>Lat</th>\n",
       "      <th>Lng</th>\n",
       "      <th>Max Temp</th>\n",
       "      <th>Humidity</th>\n",
       "      <th>Cloudiness</th>\n",
       "      <th>Wind Speed</th>\n",
       "      <th>Country</th>\n",
       "      <th>Date</th>\n",
       "    </tr>\n",
       "  </thead>\n",
       "  <tbody>\n",
       "    <tr>\n",
       "      <th>0</th>\n",
       "      <td>deqing</td>\n",
       "      <td>30.54</td>\n",
       "      <td>119.96</td>\n",
       "      <td>303.71</td>\n",
       "      <td>73</td>\n",
       "      <td>99</td>\n",
       "      <td>1.78</td>\n",
       "      <td>CN</td>\n",
       "      <td>1592970035</td>\n",
       "    </tr>\n",
       "    <tr>\n",
       "      <th>1</th>\n",
       "      <td>jamestown</td>\n",
       "      <td>42.10</td>\n",
       "      <td>-79.24</td>\n",
       "      <td>290.37</td>\n",
       "      <td>87</td>\n",
       "      <td>90</td>\n",
       "      <td>5.70</td>\n",
       "      <td>US</td>\n",
       "      <td>1592970035</td>\n",
       "    </tr>\n",
       "    <tr>\n",
       "      <th>2</th>\n",
       "      <td>mayo</td>\n",
       "      <td>38.89</td>\n",
       "      <td>-76.51</td>\n",
       "      <td>301.15</td>\n",
       "      <td>69</td>\n",
       "      <td>1</td>\n",
       "      <td>2.10</td>\n",
       "      <td>US</td>\n",
       "      <td>1592970035</td>\n",
       "    </tr>\n",
       "    <tr>\n",
       "      <th>3</th>\n",
       "      <td>staraya russa</td>\n",
       "      <td>57.99</td>\n",
       "      <td>31.36</td>\n",
       "      <td>289.88</td>\n",
       "      <td>69</td>\n",
       "      <td>0</td>\n",
       "      <td>1.42</td>\n",
       "      <td>RU</td>\n",
       "      <td>1592970035</td>\n",
       "    </tr>\n",
       "    <tr>\n",
       "      <th>4</th>\n",
       "      <td>kikwit</td>\n",
       "      <td>-5.04</td>\n",
       "      <td>18.82</td>\n",
       "      <td>293.15</td>\n",
       "      <td>45</td>\n",
       "      <td>0</td>\n",
       "      <td>0.95</td>\n",
       "      <td>CD</td>\n",
       "      <td>1592970035</td>\n",
       "    </tr>\n",
       "  </tbody>\n",
       "</table>\n",
       "</div>"
      ],
      "text/plain": [
       "            City    Lat     Lng  Max Temp  Humidity  Cloudiness  Wind Speed  \\\n",
       "0         deqing  30.54  119.96    303.71        73          99        1.78   \n",
       "1      jamestown  42.10  -79.24    290.37        87          90        5.70   \n",
       "2           mayo  38.89  -76.51    301.15        69           1        2.10   \n",
       "3  staraya russa  57.99   31.36    289.88        69           0        1.42   \n",
       "4         kikwit  -5.04   18.82    293.15        45           0        0.95   \n",
       "\n",
       "  Country        Date  \n",
       "0      CN  1592970035  \n",
       "1      US  1592970035  \n",
       "2      US  1592970035  \n",
       "3      RU  1592970035  \n",
       "4      CD  1592970035  "
      ]
     },
     "execution_count": 8,
     "metadata": {},
     "output_type": "execute_result"
    }
   ],
   "source": [
    "# Convert list of dictionaries to a dataframe\n",
    "df_weather = pd.DataFrame(list_cityWeather)\n",
    "df_weather.head()"
   ]
  },
  {
   "cell_type": "code",
   "execution_count": null,
   "metadata": {},
   "outputs": [],
   "source": []
  },
  {
   "cell_type": "code",
   "execution_count": null,
   "metadata": {
    "collapsed": true
   },
   "outputs": [],
   "source": []
  },
  {
   "cell_type": "markdown",
   "metadata": {},
   "source": [
    "## Inspect the data and remove the cities where the humidity > 100%.\n",
    "----\n",
    "Skip this step if there are no cities that have humidity > 100%. "
   ]
  },
  {
   "cell_type": "code",
   "execution_count": 9,
   "metadata": {},
   "outputs": [
    {
     "data": {
      "text/html": [
       "<div>\n",
       "<style scoped>\n",
       "    .dataframe tbody tr th:only-of-type {\n",
       "        vertical-align: middle;\n",
       "    }\n",
       "\n",
       "    .dataframe tbody tr th {\n",
       "        vertical-align: top;\n",
       "    }\n",
       "\n",
       "    .dataframe thead th {\n",
       "        text-align: right;\n",
       "    }\n",
       "</style>\n",
       "<table border=\"1\" class=\"dataframe\">\n",
       "  <thead>\n",
       "    <tr style=\"text-align: right;\">\n",
       "      <th></th>\n",
       "      <th>Lat</th>\n",
       "      <th>Lng</th>\n",
       "      <th>Max Temp</th>\n",
       "      <th>Humidity</th>\n",
       "      <th>Cloudiness</th>\n",
       "      <th>Wind Speed</th>\n",
       "      <th>Date</th>\n",
       "    </tr>\n",
       "  </thead>\n",
       "  <tbody>\n",
       "    <tr>\n",
       "      <th>count</th>\n",
       "      <td>566.000000</td>\n",
       "      <td>566.000000</td>\n",
       "      <td>566.000000</td>\n",
       "      <td>566.000000</td>\n",
       "      <td>566.000000</td>\n",
       "      <td>566.000000</td>\n",
       "      <td>5.660000e+02</td>\n",
       "    </tr>\n",
       "    <tr>\n",
       "      <th>mean</th>\n",
       "      <td>19.901201</td>\n",
       "      <td>24.931890</td>\n",
       "      <td>293.864187</td>\n",
       "      <td>68.190813</td>\n",
       "      <td>45.531802</td>\n",
       "      <td>3.400830</td>\n",
       "      <td>1.592970e+09</td>\n",
       "    </tr>\n",
       "    <tr>\n",
       "      <th>std</th>\n",
       "      <td>33.370071</td>\n",
       "      <td>88.156517</td>\n",
       "      <td>7.972379</td>\n",
       "      <td>22.919613</td>\n",
       "      <td>38.022884</td>\n",
       "      <td>2.287406</td>\n",
       "      <td>6.049070e+01</td>\n",
       "    </tr>\n",
       "    <tr>\n",
       "      <th>min</th>\n",
       "      <td>-54.800000</td>\n",
       "      <td>-175.200000</td>\n",
       "      <td>272.150000</td>\n",
       "      <td>1.000000</td>\n",
       "      <td>0.000000</td>\n",
       "      <td>0.260000</td>\n",
       "      <td>1.592970e+09</td>\n",
       "    </tr>\n",
       "    <tr>\n",
       "      <th>25%</th>\n",
       "      <td>-7.257500</td>\n",
       "      <td>-53.410000</td>\n",
       "      <td>289.150000</td>\n",
       "      <td>56.000000</td>\n",
       "      <td>4.000000</td>\n",
       "      <td>1.715000</td>\n",
       "      <td>1.592970e+09</td>\n",
       "    </tr>\n",
       "    <tr>\n",
       "      <th>50%</th>\n",
       "      <td>23.170000</td>\n",
       "      <td>30.090000</td>\n",
       "      <td>294.820000</td>\n",
       "      <td>74.000000</td>\n",
       "      <td>40.000000</td>\n",
       "      <td>3.005000</td>\n",
       "      <td>1.592970e+09</td>\n",
       "    </tr>\n",
       "    <tr>\n",
       "      <th>75%</th>\n",
       "      <td>47.927500</td>\n",
       "      <td>101.685000</td>\n",
       "      <td>300.150000</td>\n",
       "      <td>85.000000</td>\n",
       "      <td>83.750000</td>\n",
       "      <td>4.495000</td>\n",
       "      <td>1.592970e+09</td>\n",
       "    </tr>\n",
       "    <tr>\n",
       "      <th>max</th>\n",
       "      <td>78.220000</td>\n",
       "      <td>179.320000</td>\n",
       "      <td>313.470000</td>\n",
       "      <td>100.000000</td>\n",
       "      <td>100.000000</td>\n",
       "      <td>14.900000</td>\n",
       "      <td>1.592970e+09</td>\n",
       "    </tr>\n",
       "  </tbody>\n",
       "</table>\n",
       "</div>"
      ],
      "text/plain": [
       "              Lat         Lng    Max Temp    Humidity  Cloudiness  Wind Speed  \\\n",
       "count  566.000000  566.000000  566.000000  566.000000  566.000000  566.000000   \n",
       "mean    19.901201   24.931890  293.864187   68.190813   45.531802    3.400830   \n",
       "std     33.370071   88.156517    7.972379   22.919613   38.022884    2.287406   \n",
       "min    -54.800000 -175.200000  272.150000    1.000000    0.000000    0.260000   \n",
       "25%     -7.257500  -53.410000  289.150000   56.000000    4.000000    1.715000   \n",
       "50%     23.170000   30.090000  294.820000   74.000000   40.000000    3.005000   \n",
       "75%     47.927500  101.685000  300.150000   85.000000   83.750000    4.495000   \n",
       "max     78.220000  179.320000  313.470000  100.000000  100.000000   14.900000   \n",
       "\n",
       "               Date  \n",
       "count  5.660000e+02  \n",
       "mean   1.592970e+09  \n",
       "std    6.049070e+01  \n",
       "min    1.592970e+09  \n",
       "25%    1.592970e+09  \n",
       "50%    1.592970e+09  \n",
       "75%    1.592970e+09  \n",
       "max    1.592970e+09  "
      ]
     },
     "execution_count": 9,
     "metadata": {},
     "output_type": "execute_result"
    }
   ],
   "source": [
    "df_weather.describe()\n",
    "# We can see from max humidity in the describe below that max humidity = 100 "
   ]
  },
  {
   "cell_type": "code",
   "execution_count": null,
   "metadata": {},
   "outputs": [],
   "source": []
  },
  {
   "cell_type": "code",
   "execution_count": 10,
   "metadata": {
    "collapsed": true
   },
   "outputs": [],
   "source": [
    "# Extract relevant fields from the data frame\n",
    "\n",
    "\n",
    "# Export the City_Data into a csv\n",
    "df_weather.to_csv(output_data_file, index=False,)  "
   ]
  },
  {
   "cell_type": "markdown",
   "metadata": {},
   "source": [
    "## Plotting the Data\n",
    "* Use proper labeling of the plots using plot titles (including date of analysis) and axes labels.\n",
    "* Save the plotted figures as .pngs."
   ]
  },
  {
   "cell_type": "markdown",
   "metadata": {},
   "source": [
    "## Latitude vs. Temperature Plot"
   ]
  },
  {
   "cell_type": "code",
   "execution_count": 11,
   "metadata": {},
   "outputs": [
    {
     "data": {
      "image/png": "[encoded data removed]",
      "text/plain": [
       "<Figure size 432x288 with 1 Axes>"
      ]
     },
     "metadata": {},
     "output_type": "display_data"
    }
   ],
   "source": [
    "df_lat_Maxtemp= df_weather[[\"Lat\", \"Max Temp\"]]\n",
    "plt.scatter(df_lat_Maxtemp[\"Lat\"], df_lat_Maxtemp[\"Max Temp\"])\n",
    "plt.xlabel(\"Lattitude\")\n",
    "plt.ylabel(\"Max Tempreture (F)\")\n",
    "plt.title(\"City Latitude vs Max Temperature \")\n",
    "plt.savefig(\"../output_data/lat_MaxTemp_Global\")\n",
    "plt.show()"
   ]
  },
  {
   "cell_type": "code",
   "execution_count": null,
   "metadata": {
    "scrolled": true
   },
   "outputs": [],
   "source": []
  },
  {
   "cell_type": "markdown",
   "metadata": {},
   "source": [
    "## Latitude vs. Humidity Plot"
   ]
  },
  {
   "cell_type": "code",
   "execution_count": 12,
   "metadata": {},
   "outputs": [
    {
     "data": {
      "image/png": "[encoded data removed]",
      "text/plain": [
       "<Figure size 432x288 with 1 Axes>"
      ]
     },
     "metadata": {},
     "output_type": "display_data"
    }
   ],
   "source": [
    "df_lat_humidity= df_weather[[\"Lat\", \"Humidity\"]]\n",
    "plt.scatter(df_lat_humidity[\"Lat\"], df_lat_humidity[\"Humidity\"])\n",
    "plt.xlabel(\"Lattitude\")\n",
    "plt.ylabel(\"Humidity\")\n",
    "plt.title(\"City Latitude vs Humidity \")\n",
    "plt.savefig(\"../output_data/lat_Humidity_Global\")\n",
    "plt.show()"
   ]
  },
  {
   "cell_type": "code",
   "execution_count": null,
   "metadata": {},
   "outputs": [],
   "source": []
  },
  {
   "cell_type": "markdown",
   "metadata": {},
   "source": [
    "## Latitude vs. Cloudiness Plot"
   ]
  },
  {
   "cell_type": "code",
   "execution_count": 13,
   "metadata": {},
   "outputs": [
    {
     "data": {
      "image/png": "[encoded data removed]",
      "text/plain": [
       "<Figure size 432x288 with 1 Axes>"
      ]
     },
     "metadata": {},
     "output_type": "display_data"
    }
   ],
   "source": [
    "df_lat_Cloudiness= df_weather[[\"Lat\", \"Cloudiness\"]]\n",
    "plt.scatter(df_lat_Cloudiness[\"Lat\"], df_lat_Cloudiness[\"Cloudiness\"])\n",
    "plt.xlabel(\"Lattitude\")\n",
    "plt.ylabel(\"Cloudiness (%)\")\n",
    "plt.title(\"City Latitude vs Cloudiness \")\n",
    "plt.savefig(\"../output_data/lat_Cloudiness_Global\")\n",
    "plt.show()"
   ]
  },
  {
   "cell_type": "code",
   "execution_count": null,
   "metadata": {},
   "outputs": [],
   "source": []
  },
  {
   "cell_type": "markdown",
   "metadata": {},
   "source": [
    "## Latitude vs. Wind Speed Plot"
   ]
  },
  {
   "cell_type": "code",
   "execution_count": 14,
   "metadata": {},
   "outputs": [
    {
     "data": {
      "image/png": "[encoded data removed]",
      "text/plain": [
       "<Figure size 432x288 with 1 Axes>"
      ]
     },
     "metadata": {},
     "output_type": "display_data"
    }
   ],
   "source": [
    "df_lat_WindSpeed= df_weather[[\"Lat\", \"Wind Speed\"]]\n",
    "plt.scatter(df_lat_WindSpeed[\"Lat\"], df_lat_WindSpeed[\"Wind Speed\"])\n",
    "plt.xlabel(\"Lattitude\")\n",
    "plt.ylabel(\"Wind Speed (mph)\")\n",
    "plt.title(\"City Latitude vs Wind Speed \")\n",
    "plt.savefig(\"../output_data/lat_WindSpeed_Global\")\n",
    "plt.show()"
   ]
  },
  {
   "cell_type": "code",
   "execution_count": null,
   "metadata": {},
   "outputs": [],
   "source": []
  },
  {
   "cell_type": "markdown",
   "metadata": {},
   "source": [
    "## Linear Regression"
   ]
  },
  {
   "cell_type": "code",
   "execution_count": 15,
   "metadata": {
    "collapsed": true
   },
   "outputs": [],
   "source": [
    "# OPTIONAL: Create a function to create Linear Regression plots\n",
    "def pltLR(x_values,y_values):\n",
    "    (slope, intercept, rvalue, pvalue, stderr) = linregress(x_values, y_values)\n",
    "    regress_values = x_values * slope + intercept\n",
    "    line_eq = \"y = \" + str(round(slope,2)) + \"x + \" + str(round(intercept,2))\n",
    "    #plt.scatter(x_values,y_values)\n",
    "    plt.plot(x_values,regress_values,\"r-\")\n",
    "    plt.annotate(line_eq,(6,10),fontsize=15,color=\"red\")"
   ]
  },
  {
   "cell_type": "code",
   "execution_count": 16,
   "metadata": {},
   "outputs": [
    {
     "data": {
      "text/html": [
       "<div>\n",
       "<style scoped>\n",
       "    .dataframe tbody tr th:only-of-type {\n",
       "        vertical-align: middle;\n",
       "    }\n",
       "\n",
       "    .dataframe tbody tr th {\n",
       "        vertical-align: top;\n",
       "    }\n",
       "\n",
       "    .dataframe thead th {\n",
       "        text-align: right;\n",
       "    }\n",
       "</style>\n",
       "<table border=\"1\" class=\"dataframe\">\n",
       "  <thead>\n",
       "    <tr style=\"text-align: right;\">\n",
       "      <th></th>\n",
       "      <th>City</th>\n",
       "      <th>Lat</th>\n",
       "      <th>Lng</th>\n",
       "      <th>Max Temp</th>\n",
       "      <th>Humidity</th>\n",
       "      <th>Cloudiness</th>\n",
       "      <th>Wind Speed</th>\n",
       "      <th>Country</th>\n",
       "      <th>Date</th>\n",
       "    </tr>\n",
       "  </thead>\n",
       "  <tbody>\n",
       "    <tr>\n",
       "      <th>0</th>\n",
       "      <td>deqing</td>\n",
       "      <td>30.54</td>\n",
       "      <td>119.96</td>\n",
       "      <td>303.71</td>\n",
       "      <td>73</td>\n",
       "      <td>99</td>\n",
       "      <td>1.78</td>\n",
       "      <td>CN</td>\n",
       "      <td>1592970035</td>\n",
       "    </tr>\n",
       "    <tr>\n",
       "      <th>1</th>\n",
       "      <td>jamestown</td>\n",
       "      <td>42.10</td>\n",
       "      <td>-79.24</td>\n",
       "      <td>290.37</td>\n",
       "      <td>87</td>\n",
       "      <td>90</td>\n",
       "      <td>5.70</td>\n",
       "      <td>US</td>\n",
       "      <td>1592970035</td>\n",
       "    </tr>\n",
       "    <tr>\n",
       "      <th>2</th>\n",
       "      <td>mayo</td>\n",
       "      <td>38.89</td>\n",
       "      <td>-76.51</td>\n",
       "      <td>301.15</td>\n",
       "      <td>69</td>\n",
       "      <td>1</td>\n",
       "      <td>2.10</td>\n",
       "      <td>US</td>\n",
       "      <td>1592970035</td>\n",
       "    </tr>\n",
       "    <tr>\n",
       "      <th>3</th>\n",
       "      <td>staraya russa</td>\n",
       "      <td>57.99</td>\n",
       "      <td>31.36</td>\n",
       "      <td>289.88</td>\n",
       "      <td>69</td>\n",
       "      <td>0</td>\n",
       "      <td>1.42</td>\n",
       "      <td>RU</td>\n",
       "      <td>1592970035</td>\n",
       "    </tr>\n",
       "    <tr>\n",
       "      <th>6</th>\n",
       "      <td>bereda</td>\n",
       "      <td>43.27</td>\n",
       "      <td>-7.54</td>\n",
       "      <td>289.82</td>\n",
       "      <td>100</td>\n",
       "      <td>4</td>\n",
       "      <td>0.45</td>\n",
       "      <td>ES</td>\n",
       "      <td>1592970114</td>\n",
       "    </tr>\n",
       "  </tbody>\n",
       "</table>\n",
       "</div>"
      ],
      "text/plain": [
       "            City    Lat     Lng  Max Temp  Humidity  Cloudiness  Wind Speed  \\\n",
       "0         deqing  30.54  119.96    303.71        73          99        1.78   \n",
       "1      jamestown  42.10  -79.24    290.37        87          90        5.70   \n",
       "2           mayo  38.89  -76.51    301.15        69           1        2.10   \n",
       "3  staraya russa  57.99   31.36    289.88        69           0        1.42   \n",
       "6         bereda  43.27   -7.54    289.82       100           4        0.45   \n",
       "\n",
       "  Country        Date  \n",
       "0      CN  1592970035  \n",
       "1      US  1592970035  \n",
       "2      US  1592970035  \n",
       "3      RU  1592970035  \n",
       "6      ES  1592970114  "
      ]
     },
     "execution_count": 16,
     "metadata": {},
     "output_type": "execute_result"
    }
   ],
   "source": [
    "# Create Northern and Southern Hemisphere DataFrames\n",
    "df_Northern = df_weather[df_weather[\"Lat\"]>0]\n",
    "df_Southern = df_weather[df_weather[\"Lat\"]<0]\n",
    "df_Northern.head()"
   ]
  },
  {
   "cell_type": "markdown",
   "metadata": {},
   "source": [
    "####  Northern Hemisphere - Max Temp vs. Latitude Linear Regression"
   ]
  },
  {
   "cell_type": "code",
   "execution_count": 17,
   "metadata": {
    "scrolled": true
   },
   "outputs": [
    {
     "name": "stdout",
     "output_type": "stream",
     "text": [
      "R squared: 0.4255842277182916\n"
     ]
    },
    {
     "data": {
      "image/png": "[encoded data removed]",
      "text/plain": [
       "<Figure size 432x288 with 1 Axes>"
      ]
     },
     "metadata": {},
     "output_type": "display_data"
    }
   ],
   "source": [
    "df_lat_MaxTemp= df_Northern[[\"Lat\", \"Max Temp\"]]\n",
    "x_values= df_lat_MaxTemp[\"Lat\"]\n",
    "y_values= df_lat_MaxTemp[\"Max Temp\"]\n",
    "#plt.scatter(df_lat_MaxTemp[\"Max Temp\"], df_lat_MaxTemp[\"Lat\"])\n",
    "#pltLR(df_lat_MaxTemp[\"Max Temp\"], df_lat_MaxTemp[\"Lat\"])\n",
    "(slope, intercept, rvalue, pvalue, stderr) = linregress(x_values, y_values)\n",
    "regress_values = x_values * slope + intercept\n",
    "line_eq = \"y = \" + str(round(slope,2)) + \"x + \" + str(round(intercept,2))\n",
    "plt.scatter(x_values,y_values)\n",
    "plt.plot(x_values,regress_values,\"r-\")\n",
    "plt.xlim(0,80)\n",
    "plt.ylim(270,330)\n",
    "plt.annotate(line_eq,(6,280),fontsize=15,color=\"red\")\n",
    "plt.xlabel(\"Lattitude\")\n",
    "plt.ylabel(\"Max Temp\")\n",
    "plt.title(\"City Latitude vs Max Temp in the Northern Hemisphere \")\n",
    "print(f\"R squared: {rvalue**2}\")\n",
    "plt.savefig(\"../output_data/lat_MaxTemp_Northern\")\n",
    "plt.show()"
   ]
  },
  {
   "cell_type": "code",
   "execution_count": null,
   "metadata": {},
   "outputs": [],
   "source": []
  },
  {
   "cell_type": "markdown",
   "metadata": {},
   "source": [
    "####  Southern Hemisphere - Max Temp vs. Latitude Linear Regression"
   ]
  },
  {
   "cell_type": "code",
   "execution_count": 18,
   "metadata": {},
   "outputs": [
    {
     "name": "stdout",
     "output_type": "stream",
     "text": [
      "R squared: 0.5542735911107696\n"
     ]
    },
    {
     "data": {
      "image/png": "[encoded data removed]",
      "text/plain": [
       "<Figure size 432x288 with 1 Axes>"
      ]
     },
     "metadata": {},
     "output_type": "display_data"
    }
   ],
   "source": [
    "df_lat_MaxTemp= df_Southern[[\"Lat\", \"Max Temp\"]]\n",
    "x_values= df_lat_MaxTemp[\"Lat\"]\n",
    "y_values= df_lat_MaxTemp[\"Max Temp\"]\n",
    "(slope, intercept, rvalue, pvalue, stderr) = linregress(x_values, y_values)\n",
    "regress_values = x_values * slope + intercept\n",
    "line_eq = \"y = \" + str(round(slope,2)) + \"x + \" + str(round(intercept,2))\n",
    "plt.scatter(x_values,y_values)\n",
    "plt.plot(x_values,regress_values,\"r-\")\n",
    "plt.annotate(line_eq,(-40,280),fontsize=15,color=\"red\")\n",
    "plt.xlabel(\"Lattitude\")\n",
    "plt.ylabel(\"Max Temp\")\n",
    "plt.title(\"City Latitude vs Max Temp in the Northern Hemisphere \")\n",
    "print(f\"R squared: {rvalue**2}\")\n",
    "plt.savefig(\"../output_data/lat_MaxTemp_Southern\")\n",
    "plt.show()"
   ]
  },
  {
   "cell_type": "markdown",
   "metadata": {},
   "source": [
    "####  Northern Hemisphere - Humidity (%) vs. Latitude Linear Regression"
   ]
  },
  {
   "cell_type": "code",
   "execution_count": 19,
   "metadata": {},
   "outputs": [
    {
     "name": "stdout",
     "output_type": "stream",
     "text": [
      "R squared: 0.006650697407708002\n"
     ]
    },
    {
     "data": {
      "image/png": "[encoded data removed]",
      "text/plain": [
       "<Figure size 432x288 with 1 Axes>"
      ]
     },
     "metadata": {},
     "output_type": "display_data"
    }
   ],
   "source": [
    "df_lat_Humidity= df_Northern[[\"Lat\", \"Humidity\"]]\n",
    "x_values= df_lat_Humidity[\"Lat\"]\n",
    "y_values= df_lat_Humidity[\"Humidity\"]\n",
    "(slope, intercept, rvalue, pvalue, stderr) = linregress(x_values, y_values)\n",
    "regress_values = x_values * slope + intercept\n",
    "line_eq = \"y = \" + str(round(slope,2)) + \"x + \" + str(round(intercept,2))\n",
    "plt.scatter(x_values,y_values)\n",
    "plt.plot(x_values,regress_values,\"r-\")\n",
    "plt.annotate(line_eq,(6,10),fontsize=15,color=\"red\")\n",
    "plt.xlabel(\"Lattitude\")\n",
    "plt.ylabel(\"Humidity\")\n",
    "plt.title(\"City Latitude vs Humidity in the Northern Hemisphere \")\n",
    "print(f\"R squared: {rvalue**2}\")\n",
    "plt.savefig(\"../output_data/lat_Humidity_Northern\")\n",
    "plt.show()\n"
   ]
  },
  {
   "cell_type": "code",
   "execution_count": null,
   "metadata": {},
   "outputs": [],
   "source": []
  },
  {
   "cell_type": "markdown",
   "metadata": {},
   "source": [
    "####  Southern Hemisphere - Humidity (%) vs. Latitude Linear Regression"
   ]
  },
  {
   "cell_type": "code",
   "execution_count": 20,
   "metadata": {},
   "outputs": [
    {
     "name": "stdout",
     "output_type": "stream",
     "text": [
      "R squared: 0.0006247006198058132\n"
     ]
    },
    {
     "data": {
      "image/png": "[encoded data removed]",
      "text/plain": [
       "<Figure size 432x288 with 1 Axes>"
      ]
     },
     "metadata": {},
     "output_type": "display_data"
    }
   ],
   "source": [
    "df_lat_Humidity= df_Southern[[\"Lat\", \"Humidity\"]]\n",
    "x_values= df_lat_Humidity[\"Lat\"]\n",
    "y_values= df_lat_Humidity[\"Humidity\"]\n",
    "(slope, intercept, rvalue, pvalue, stderr) = linregress(x_values, y_values)\n",
    "regress_values = x_values * slope + intercept\n",
    "line_eq = \"y = \" + str(round(slope,2)) + \"x + \" + str(round(intercept,2))\n",
    "plt.scatter(x_values,y_values)\n",
    "plt.plot(x_values,regress_values,\"r-\")\n",
    "plt.annotate(line_eq,(-50,20),fontsize=15,color=\"red\")\n",
    "plt.xlabel(\"Lattitude\")\n",
    "plt.ylabel(\"Humidity\")\n",
    "plt.title(\"City Latitude vs Humidity in the Northern Hemisphere \")\n",
    "print(f\"R squared: {rvalue**2}\")\n",
    "plt.savefig(\"../output_data/lat_Humidity_Southern\")\n",
    "plt.show()"
   ]
  },
  {
   "cell_type": "code",
   "execution_count": null,
   "metadata": {},
   "outputs": [],
   "source": []
  },
  {
   "cell_type": "markdown",
   "metadata": {},
   "source": [
    "####  Northern Hemisphere - Cloudiness (%) vs. Latitude Linear Regression"
   ]
  },
  {
   "cell_type": "code",
   "execution_count": 21,
   "metadata": {},
   "outputs": [
    {
     "name": "stdout",
     "output_type": "stream",
     "text": [
      "R squared: 1.5653670264406802e-06\n"
     ]
    },
    {
     "data": {
      "image/png": "[encoded data removed]",
      "text/plain": [
       "<Figure size 432x288 with 1 Axes>"
      ]
     },
     "metadata": {},
     "output_type": "display_data"
    }
   ],
   "source": [
    "df_lat_Humidity= df_Northern[[\"Lat\", \"Cloudiness\"]]\n",
    "x_values= df_lat_Humidity[\"Lat\"]\n",
    "y_values= df_lat_Humidity[\"Cloudiness\"]\n",
    "(slope, intercept, rvalue, pvalue, stderr) = linregress(x_values, y_values)\n",
    "regress_values = x_values * slope + intercept\n",
    "line_eq = \"y = \" + str(round(slope,2)) + \"x + \" + str(round(intercept,2))\n",
    "plt.scatter(x_values,y_values)\n",
    "plt.plot(x_values,regress_values,\"r-\")\n",
    "plt.annotate(line_eq,(6,10),fontsize=15,color=\"red\")\n",
    "plt.xlabel(\"Lattitude\")\n",
    "plt.ylabel(\"Cloudiness\")\n",
    "plt.title(\"City Latitude vs Cloudiness % in the Northern Hemisphere \")\n",
    "print(f\"R squared: {rvalue**2}\")\n",
    "plt.savefig(\"../output_data/lat_Cloudiness_Northern\")\n",
    "plt.show()"
   ]
  },
  {
   "cell_type": "code",
   "execution_count": null,
   "metadata": {},
   "outputs": [],
   "source": []
  },
  {
   "cell_type": "markdown",
   "metadata": {},
   "source": [
    "####  Southern Hemisphere - Cloudiness (%) vs. Latitude Linear Regression"
   ]
  },
  {
   "cell_type": "code",
   "execution_count": 22,
   "metadata": {},
   "outputs": [
    {
     "name": "stdout",
     "output_type": "stream",
     "text": [
      "R squared: 0.0059304161627745525\n"
     ]
    },
    {
     "data": {
      "image/png": "[encoded data removed]",
      "text/plain": [
       "<Figure size 432x288 with 1 Axes>"
      ]
     },
     "metadata": {},
     "output_type": "display_data"
    }
   ],
   "source": [
    "df_lat_Humidity= df_Southern[[\"Lat\", \"Cloudiness\"]]\n",
    "x_values= df_lat_Humidity[\"Lat\"]\n",
    "y_values= df_lat_Humidity[\"Cloudiness\"]\n",
    "(slope, intercept, rvalue, pvalue, stderr) = linregress(x_values, y_values)\n",
    "regress_values = x_values * slope + intercept\n",
    "line_eq = \"y = \" + str(round(slope,2)) + \"x + \" + str(round(intercept,2))\n",
    "plt.scatter(x_values,y_values)\n",
    "plt.plot(x_values,regress_values,\"r-\")\n",
    "plt.annotate(line_eq,(-40,20),fontsize=15,color=\"red\")\n",
    "plt.xlabel(\"Lattitude\")\n",
    "plt.ylabel(\"Cloudiness\")\n",
    "plt.title(\"City Latitude vs Cloudiness (%) in the Southern Hemisphere \")\n",
    "print(f\"R squared: {rvalue**2}\")\n",
    "plt.savefig(\"../output_data/lat_Cloudiness_Southern\")\n",
    "plt.show()"
   ]
  },
  {
   "cell_type": "code",
   "execution_count": null,
   "metadata": {},
   "outputs": [],
   "source": []
  },
  {
   "cell_type": "markdown",
   "metadata": {},
   "source": [
    "####  Northern Hemisphere - Wind Speed (mph) vs. Latitude Linear Regression"
   ]
  },
  {
   "cell_type": "code",
   "execution_count": 23,
   "metadata": {},
   "outputs": [
    {
     "name": "stdout",
     "output_type": "stream",
     "text": [
      "R squared: 8.525654455993452e-05\n"
     ]
    },
    {
     "data": {
      "image/png": "[encoded data removed]",
      "text/plain": [
       "<Figure size 432x288 with 1 Axes>"
      ]
     },
     "metadata": {},
     "output_type": "display_data"
    }
   ],
   "source": [
    "df_lat_WindSpeed= df_Northern[[\"Lat\", \"Wind Speed\"]]\n",
    "x_values= df_lat_WindSpeed[\"Lat\"]\n",
    "y_values= df_lat_WindSpeed[\"Wind Speed\"]\n",
    "(slope, intercept, rvalue, pvalue, stderr) = linregress(x_values, y_values)\n",
    "regress_values = x_values * slope + intercept\n",
    "line_eq = \"y = \" + str(round(slope,2)) + \"x + \" + str(round(intercept,2))\n",
    "plt.scatter(x_values,y_values)\n",
    "plt.plot(x_values,regress_values,\"r-\")\n",
    "plt.annotate(line_eq,(6,10),fontsize=15,color=\"red\")\n",
    "plt.xlabel(\"Lattitude\")\n",
    "plt.ylabel(\"Cloudiness\")\n",
    "plt.title(\"City Latitude vs Wind Speed in the Northern Hemisphere \")\n",
    "print(f\"R squared: {rvalue**2}\")\n",
    "plt.savefig(\"../output_data/lat_WindSpeed_Northern\")\n",
    "plt.show()"
   ]
  },
  {
   "cell_type": "code",
   "execution_count": null,
   "metadata": {},
   "outputs": [],
   "source": []
  },
  {
   "cell_type": "markdown",
   "metadata": {},
   "source": [
    "####  Southern Hemisphere - Wind Speed (mph) vs. Latitude Linear Regression"
   ]
  },
  {
   "cell_type": "code",
   "execution_count": 24,
   "metadata": {},
   "outputs": [
    {
     "name": "stdout",
     "output_type": "stream",
     "text": [
      "R squared: 0.0008832791918470196\n"
     ]
    },
    {
     "data": {
      "image/png": "[encoded data removed]",
      "text/plain": [
       "<Figure size 432x288 with 1 Axes>"
      ]
     },
     "metadata": {},
     "output_type": "display_data"
    }
   ],
   "source": [
    "df_lat_WindSpeed= df_Southern[[\"Lat\", \"Wind Speed\"]]\n",
    "x_values= df_lat_WindSpeed[\"Lat\"]\n",
    "y_values= df_lat_WindSpeed[\"Wind Speed\"]\n",
    "(slope, intercept, rvalue, pvalue, stderr) = linregress(x_values, y_values)\n",
    "regress_values = x_values * slope + intercept\n",
    "line_eq = \"y = \" + str(round(slope,2)) + \"x + \" + str(round(intercept,2))\n",
    "plt.scatter(x_values,y_values)\n",
    "plt.plot(x_values,regress_values,\"r-\")\n",
    "plt.annotate(line_eq,(-40,6),fontsize=15,color=\"red\")\n",
    "plt.xlabel(\"Lattitude\")\n",
    "plt.ylabel(\"Cloudiness\")\n",
    "plt.title(\"City Latitude vs Wind Speed in the Southern Hemisphere \")\n",
    "print(f\"R squared: {rvalue**2}\")\n",
    "plt.savefig(\"../output_data/lat_WindSpeed_Southern\")\n",
    "plt.show()"
   ]
  },
  {
   "cell_type": "code",
   "execution_count": null,
   "metadata": {},
   "outputs": [],
   "source": []
  },
  {
   "cell_type": "code",
   "execution_count": null,
   "metadata": {
    "collapsed": true
   },
   "outputs": [],
   "source": []
  },
  {
   "cell_type": "code",
   "execution_count": null,
   "metadata": {
    "collapsed": true
   },
   "outputs": [],
   "source": []
  }
 ],
 "metadata": {
  "anaconda-cloud": {},
  "kernel_info": {
   "name": "python3"
  },
  "kernelspec": {
   "display_name": "Python 3",
   "language": "python",
   "name": "python3"
  },
  "language_info": {
   "codemirror_mode": {
    "name": "ipython",
    "version": 3
   },
   "file_extension": ".py",
   "mimetype": "text/x-python",
   "name": "python",
   "nbconvert_exporter": "python",
   "pygments_lexer": "ipython3",
   "version": "3.6.9"
  },
  "latex_envs": {
   "LaTeX_envs_menu_present": true,
   "autoclose": false,
   "autocomplete": true,
   "bibliofile": "biblio.bib",
   "cite_by": "apalike",
   "current_citInitial": 1,
   "eqLabelWithNumbers": true,
   "eqNumInitial": 1,
   "hotkeys": {
    "equation": "Ctrl-E",
    "itemize": "Ctrl-I"
   },
   "labels_anchors": false,
   "latex_user_defs": false,
   "report_style_numbering": false,
   "user_envs_cfg": false
  },
  "nteract": {
   "version": "0.12.3"
  }
 },
 "nbformat": 4,
 "nbformat_minor": 2
}
